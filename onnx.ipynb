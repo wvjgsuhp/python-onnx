{
 "metadata": {
  "language_info": {
   "codemirror_mode": {
    "name": "ipython",
    "version": 3
   },
   "file_extension": ".py",
   "mimetype": "text/x-python",
   "name": "python",
   "nbconvert_exporter": "python",
   "pygments_lexer": "ipython3",
   "version": "3.8.2"
  },
  "orig_nbformat": 2,
  "kernelspec": {
   "name": "pythonjvsc74a57bd043b228639e6814d2f91dcc4506693828c0ed441f88a166128cec7d0f5dbc8fe1",
   "display_name": "Python 3.8.2  ('env': venv)"
  },
  "metadata": {
   "interpreter": {
    "hash": "43b228639e6814d2f91dcc4506693828c0ed441f88a166128cec7d0f5dbc8fe1"
   }
  }
 },
 "nbformat": 4,
 "nbformat_minor": 2,
 "cells": [
  {
   "cell_type": "code",
   "execution_count": null,
   "metadata": {},
   "outputs": [],
   "source": [
    "from constants.tf import my_pic\n",
    "import numpy as np\n",
    "import onnxruntime as rt\n",
    "import os\n",
    "from os import path\n",
    "from sklearn.model_selection import train_test_split\n",
    "import tensorflow as tf\n",
    "from tensorflow.keras.layers import Dense, Lambda\n",
    "from tensorflow.keras import Model, Sequential, losses\n",
    "import tf2onnx.convert\n",
    "from typing import Tuple\n"
   ]
  },
  {
   "cell_type": "code",
   "execution_count": null,
   "metadata": {},
   "outputs": [],
   "source": [
    "# constants\n",
    "random_state = 112\n",
    "tf.random.set_seed(random_state)\n",
    "\n",
    "# load data\n",
    "fashion_mnist = tf.keras.datasets.fashion_mnist\n",
    "\n",
    "# output path\n",
    "base_output_path = './out/models'\n",
    "h5_path = path.join(base_output_path, 'fashion_mnist_simple.h5')\n",
    "default_path = path.join(base_output_path, 'fashion_mnist_simple')\n",
    "onnx_path = path.join(base_output_path, 'fashion_mnist_simple_tf_api.onnx')\n",
    "\n",
    "# set number of threads used\n",
    "tf.config.threading.set_intra_op_parallelism_threads(2)\n"
   ]
  },
  {
   "cell_type": "code",
   "execution_count": null,
   "metadata": {},
   "outputs": [],
   "source": [
    "def flatten(np_array: np.ndarray) -> np.ndarray:\n",
    "    flatten_array = []\n",
    "    for image in np_array:\n",
    "        flatten_array.append(image.flatten())\n",
    "    return np.array(flatten_array)\n",
    "\n",
    "\n",
    "def prepare_dir(dir_: str):\n",
    "    if not path.isdir(dir_):\n",
    "        os.makedirs(dir_)\n",
    "\n",
    "\n",
    "train_set: Tuple[np.ndarray, np.ndarray]\n",
    "x_test: np.ndarray\n",
    "y_test: np.ndarray\n",
    "x_train: np.ndarray\n",
    "y_train: np.ndarray\n",
    "x_val: np.ndarray\n",
    "y_val: np.ndarray\n",
    "\n",
    "prepare_dir(base_output_path)"
   ]
  },
  {
   "cell_type": "code",
   "execution_count": null,
   "metadata": {},
   "outputs": [],
   "source": [
    "train_set, (x_test, y_test) = fashion_mnist.load_data()\n",
    "x_train, x_val, y_train, y_val = train_test_split(\n",
    "    train_set[0], train_set[1], test_size=0.2, random_state=random_state)\n",
    "\n",
    "x_train = flatten(x_train)\n",
    "x_val = flatten(x_val)\n",
    "x_test = flatten(x_test)"
   ]
  },
  {
   "cell_type": "code",
   "execution_count": null,
   "metadata": {},
   "outputs": [],
   "source": [
    "def train(x: np.ndarray, y: np.ndarray) -> Model:\n",
    "    model = Sequential([\n",
    "        Lambda(lambda x: x / 255, input_shape=(784,)),\n",
    "        Dense(128, activation='relu'),\n",
    "        Dense(128, activation='relu'),\n",
    "        Dense(10, activation='softmax')\n",
    "    ])\n",
    "\n",
    "    loss = losses.SparseCategoricalCrossentropy(from_logits=True)\n",
    "    model.compile(\n",
    "        loss=loss, metrics=['accuracy'], optimizer='adam')\n",
    "    model.fit(x, y, epochs=10)\n",
    "    return model\n",
    "\n",
    "\n",
    "def predict(model: Model, x: np.ndarray, y: np.ndarray):\n",
    "    loss, acc = model.evaluate(x, y, verbose=2)\n",
    "\n",
    "\n",
    "def save_onnx(model: Model):\n",
    "    input_spec = (tf.TensorSpec((1, 784), tf.uint8, name='input'),)\n",
    "    tf2onnx.convert.from_keras(model, input_spec, output_path=onnx_path)\n"
   ]
  },
  {
   "cell_type": "code",
   "execution_count": null,
   "metadata": {},
   "outputs": [],
   "source": [
    "model = train(x_train, y_train)\n",
    "predict(model, x_test, y_test)\n",
    "\n",
    "model.save(default_path)\n",
    "# h5\n",
    "model.save(h5_path)\n",
    "\n",
    "# onnx\n",
    "save_onnx(model)"
   ]
  },
  {
   "source": [
    "# Default Prediction"
   ],
   "cell_type": "markdown",
   "metadata": {}
  },
  {
   "cell_type": "code",
   "execution_count": null,
   "metadata": {},
   "outputs": [],
   "source": [
    "with tf.device('/CPU:0'):\n",
    "    model_default = tf.keras.models.load_model(default_path)\n",
    "\n",
    "    prediction_h5 = model_default.predict([my_pic])\n",
    "    print(prediction_h5, np.argmax(prediction_h5[0]))"
   ]
  },
  {
   "cell_type": "code",
   "execution_count": null,
   "metadata": {},
   "outputs": [],
   "source": [
    "%timeit with tf.device('/CPU:0'): model_default.predict([my_pic])"
   ]
  },
  {
   "source": [
    "# H5 Prediction"
   ],
   "cell_type": "markdown",
   "metadata": {}
  },
  {
   "cell_type": "code",
   "execution_count": null,
   "metadata": {},
   "outputs": [],
   "source": [
    "with tf.device('/CPU:0'):\n",
    "    model_h5 = tf.keras.models.load_model(h5_path)\n",
    "\n",
    "    prediction_h5 = model_h5.predict([my_pic])\n",
    "    print(prediction_h5, np.argmax(prediction_h5[0]))"
   ]
  },
  {
   "cell_type": "code",
   "execution_count": null,
   "metadata": {},
   "outputs": [],
   "source": [
    "%timeit with tf.device('/CPU:0'): model_h5.predict([my_pic])"
   ]
  },
  {
   "source": [
    "# ONNX Prediction"
   ],
   "cell_type": "markdown",
   "metadata": {}
  },
  {
   "cell_type": "code",
   "execution_count": null,
   "metadata": {},
   "outputs": [],
   "source": [
    "sess = rt.InferenceSession(onnx_path)\n",
    "\n",
    "# set number of threads\n",
    "sess_options = sess.get_session_options()\n",
    "sess_options.intra_op_num_threads = 2\n",
    "\n",
    "input_name = sess.get_inputs()[0].name\n",
    "output_name = sess.get_outputs()[0].name\n",
    "\n",
    "prediction_onnx = sess.run([output_name], {input_name: [my_pic]})\n",
    "print(prediction_onnx, np.argmax(prediction_onnx))"
   ]
  },
  {
   "cell_type": "code",
   "execution_count": null,
   "metadata": {},
   "outputs": [],
   "source": [
    "%timeit sess.run([output_name], {input_name: [my_pic]})"
   ]
  },
  {
   "cell_type": "code",
   "execution_count": null,
   "metadata": {},
   "outputs": [],
   "source": [
    "# answer\n",
    "# 0 T-shirt/top\n",
    "# 1 Trouser\n",
    "# 2 Pullover\n",
    "# 3 Dress\n",
    "# 4 Coat\n",
    "# 5 Sandal\n",
    "# 6 Shirt\n",
    "# 7 Sneaker\n",
    "# 8 Bag\n",
    "# 9 Ankle boot"
   ]
  },
  {
   "source": [
    "# Saving Speed"
   ],
   "cell_type": "markdown",
   "metadata": {}
  },
  {
   "cell_type": "code",
   "execution_count": null,
   "metadata": {},
   "outputs": [],
   "source": [
    "%timeit model.save(default_path)"
   ]
  },
  {
   "cell_type": "code",
   "execution_count": null,
   "metadata": {},
   "outputs": [],
   "source": [
    "%timeit model.save(h5_path)"
   ]
  },
  {
   "cell_type": "code",
   "execution_count": null,
   "metadata": {},
   "outputs": [],
   "source": [
    "%timeit save_onnx(model)"
   ]
  },
  {
   "source": [
    "# Random Prediction"
   ],
   "cell_type": "markdown",
   "metadata": {}
  },
  {
   "cell_type": "code",
   "execution_count": null,
   "metadata": {},
   "outputs": [],
   "source": [
    "%timeit np.random.randint(0, 255, [1, 784], np.uint8)"
   ]
  },
  {
   "cell_type": "code",
   "execution_count": null,
   "metadata": {},
   "outputs": [],
   "source": [
    "%timeit sess.run([output_name], {input_name: np.random.randint(0, 255, [1, 784], np.uint8)})"
   ]
  },
  {
   "cell_type": "code",
   "execution_count": null,
   "metadata": {},
   "outputs": [],
   "source": [
    "%timeit with tf.device('/CPU:0'): model_h5.predict(np.random.randint(0, 255, [1, 784], np.uint8))"
   ]
  }
 ]
}